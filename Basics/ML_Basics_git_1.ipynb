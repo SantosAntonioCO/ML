{
 "cells": [
  {
   "cell_type": "markdown",
   "id": "d79daf2b",
   "metadata": {},
   "source": [
    "# Regression with simple Gradient Descent"
   ]
  },
  {
   "cell_type": "markdown",
   "id": "7321c890",
   "metadata": {},
   "source": [
    "# TOC\n",
    "\n",
    "* [Simple toy data simulation](#sds123453)\n",
    "* [Simplest Linear ML model ](#sl_ML_m)\n",
    "* [Update parameter formula](#upf)\n",
    "* [Implementation](#i1234)\n",
    "* [Results](#r123)\n",
    "* [Further ideas](#fi13)"
   ]
  },
  {
   "cell_type": "code",
   "execution_count": 1,
   "id": "12c54c2e",
   "metadata": {},
   "outputs": [
    {
     "data": {
      "text/plain": [
       "'C:\\\\Users\\\\anton\\\\Documents\\\\programming\\\\python\\\\ML\\\\Basics'"
      ]
     },
     "execution_count": 1,
     "metadata": {},
     "output_type": "execute_result"
    }
   ],
   "source": [
    "%pwd"
   ]
  },
  {
   "cell_type": "markdown",
   "id": "f2d36a5e",
   "metadata": {},
   "source": [
    "*Main Idea:*\n",
    "<div class=\"alert alert-block alert-success\" style=\"text-align: justify\"> \n",
    "We will simulate a simple regression as a first simple machine learning idea about regression, when a machine learning algorithm tries to learn a pattern from data and fit its parameters (linear coefficient and an angular slope) to minimize an error, like mean squared error (MSE)\n",
    "</div>\n",
    "\n",
    "[1] https://en.wikipedia.org/wiki/Mean_squared_error <br>\n",
    "[2] https://en.wikipedia.org/wiki/Gradient_descent  <br>\n",
    "[3] https://www.teachy.app/en/book/high-school/10th-grade/mathematics-en/first-degree-function-concepts-and-applications-2055b <br>\n",
    "[4] https://stackoverflow.com/questions/42920602/calling-a-lambda-with-a-numpy-array <br>\n",
    "[5] https://matplotlib.org/stable/tutorials/pyplot.html <br>\n",
    "[6] https://stackoverflow.com/questions/332289/how-do-i-change-the-size-of-figures-drawn-with-matplotlib"
   ]
  },
  {
   "cell_type": "markdown",
   "id": "7c2fe907",
   "metadata": {},
   "source": [
    "### Simple toy data simulation <a class=\"anchor\" id=\"sds123453\"></a>"
   ]
  },
  {
   "cell_type": "markdown",
   "id": "062d9b4e",
   "metadata": {},
   "source": [
    "We will simulate a simples linear data with some random white noise"
   ]
  },
  {
   "cell_type": "code",
   "execution_count": 1,
   "id": "e5575a5a",
   "metadata": {},
   "outputs": [],
   "source": [
    "import numpy as np"
   ]
  },
  {
   "cell_type": "code",
   "execution_count": 2,
   "id": "9abbb968",
   "metadata": {},
   "outputs": [],
   "source": [
    "# Data size population\n",
    "n=100\n",
    "xi=0.0; xf=10.;\n",
    "dx= (xf-xi)/n\n",
    "x = np.arange(0.,10.,dx) \n",
    "a= 2.   # 'a',angular coefficient, indicates the slope of this line\n",
    "b = 1.5 #  'b', the linear coefficient, indicates the point where the line intersects the y-axis\n",
    "\n",
    "y = x * a # mutiplying x values by a coeff\n",
    "\n",
    "# To sum function y by b coeff [4]\n",
    "\n",
    "sum_ele = lambda u,w: u + w \n",
    "y = sum_ele(y,b)\n",
    "\n"
   ]
  },
  {
   "cell_type": "code",
   "execution_count": 3,
   "id": "e78c7daf",
   "metadata": {},
   "outputs": [
    {
     "data": {
      "text/plain": [
       "(100, 100)"
      ]
     },
     "execution_count": 3,
     "metadata": {},
     "output_type": "execute_result"
    }
   ],
   "source": [
    "len(x),len(y)"
   ]
  },
  {
   "cell_type": "code",
   "execution_count": 4,
   "id": "75acdadc",
   "metadata": {},
   "outputs": [
    {
     "name": "stdout",
     "output_type": "stream",
     "text": [
      "[1.5 1.7 1.9 2.1 2.3 2.5 2.7 2.9 3.1 3.3]\n",
      "[19.5 19.7 19.9 20.1 20.3 20.5 20.7 20.9 21.1 21.3]\n"
     ]
    }
   ],
   "source": [
    "print(y[:10]) # printing some values\n",
    "print(y[-10:]) # last values"
   ]
  },
  {
   "cell_type": "markdown",
   "id": "6446819c",
   "metadata": {},
   "source": [
    "Plotting data"
   ]
  },
  {
   "cell_type": "code",
   "execution_count": 5,
   "id": "8acd5f16",
   "metadata": {},
   "outputs": [],
   "source": [
    "import matplotlib.pyplot as plt"
   ]
  },
  {
   "cell_type": "code",
   "execution_count": 6,
   "id": "170b7107",
   "metadata": {},
   "outputs": [],
   "source": [
    "plt.rcParams[\"figure.figsize\"] = (6,4) #[6] configure figure size"
   ]
  },
  {
   "cell_type": "code",
   "execution_count": 7,
   "id": "4a48b950",
   "metadata": {},
   "outputs": [
    {
     "data": {
      "image/png": "[encoded data removed]",
      "text/plain": [
       "<Figure size 600x400 with 1 Axes>"
      ]
     },
     "metadata": {},
     "output_type": "display_data"
    }
   ],
   "source": [
    "# displaying the title\n",
    "plt.title(\"Linear data\")\n",
    "plt.plot(x,y, color='green',label='Linear data y='+str(a)+'x+'+str(b))\n",
    "plt.ylabel('y')\n",
    "plt.xlabel('x')\n",
    "plt.legend(loc='best')\n",
    "plt.grid()\n",
    "plt.show()"
   ]
  },
  {
   "cell_type": "markdown",
   "id": "a5ae8513",
   "metadata": {},
   "source": [
    "Including some noise ($\\epsilon$),for a bit more 'real' data."
   ]
  },
  {
   "cell_type": "code",
   "execution_count": 8,
   "id": "d12d514b",
   "metadata": {},
   "outputs": [],
   "source": [
    "# Set the seed, it will generate the same random value to compare forward values\n",
    "np.random.seed(0)\n",
    "e = np.random.uniform(-1.,1.,n)"
   ]
  },
  {
   "cell_type": "code",
   "execution_count": 9,
   "id": "34352252",
   "metadata": {},
   "outputs": [],
   "source": [
    "y_e = sum_ele(y,e) # To sum the noise to linear previous data"
   ]
  },
  {
   "cell_type": "code",
   "execution_count": 10,
   "id": "260c50dc",
   "metadata": {},
   "outputs": [
    {
     "data": {
      "text/plain": [
       "(21.3, -0.9906090476149059, 20.309390952385094)"
      ]
     },
     "execution_count": 10,
     "metadata": {},
     "output_type": "execute_result"
    }
   ],
   "source": [
    "y[-1],e[-1],y_e[-1] # just check"
   ]
  },
  {
   "cell_type": "code",
   "execution_count": null,
   "id": "90521543",
   "metadata": {},
   "outputs": [],
   "source": []
  },
  {
   "cell_type": "code",
   "execution_count": 11,
   "id": "c489b745",
   "metadata": {},
   "outputs": [
    {
     "data": {
      "image/png": "[encoded data removed]",
      "text/plain": [
       "<Figure size 600x400 with 1 Axes>"
      ]
     },
     "metadata": {},
     "output_type": "display_data"
    }
   ],
   "source": [
    "# displaying the title\n",
    "plt.title(\"Noise linear data\")\n",
    "plt.plot(x,y, color='green',label='y=ax+b', linestyle='dashed')\n",
    "plt.scatter(x,y_e, color='blue',s=5,label='Noise data y='+str(a)+'x+'+str(b)+'+$\\epsilon$')\n",
    "plt.scatter([],[], color='blue',s=5,label='$\\epsilon\\sim(-1,1) , \\, n=$'+str(n)+'.')\n",
    "plt.ylabel('y')\n",
    "plt.xlabel('x')\n",
    "plt.legend(loc='best')\n",
    "plt.grid()\n",
    "plt.show()"
   ]
  },
  {
   "cell_type": "markdown",
   "id": "8c7f1018",
   "metadata": {},
   "source": [
    "### Simplest linear ML model  <a class=\"anchor\" id=\"sl_ML_m\"></a>  "
   ]
  },
  {
   "cell_type": "markdown",
   "id": "9c80b1b3",
   "metadata": {},
   "source": [
    "Now let's implement your regression machine learning model"
   ]
  },
  {
   "cell_type": "markdown",
   "id": "c4762a68",
   "metadata": {},
   "source": [
    "  To adjust a linear, simplest first order model $y^R= \\theta_0 x + \\theta_1$ with parameters $\\theta_0, \\theta_1$ (angular and linear coefficients, respectively). To fit $y_R$ to data $y$ we need to adjust $\\theta_0, \\theta_1$, how to do that? In machine learning and statistics we need to think about how to measure an error related to the discrepancy between regression functions fit to the data. The error function can be called as a loss function, and in your case it can be a mean squared error (MSE)[2] or mean squared deviation (MSD), or a mean distance between data and the regression function ($y_R$)  \n"
   ]
  },
  {
   "cell_type": "markdown",
   "id": "5464ff32",
   "metadata": {},
   "source": [
    "### Update parameter formula  <a class=\"anchor\" id=\"upf\"></a>  \n",
    "\n",
    "Gradient descent"
   ]
  },
  {
   "cell_type": "markdown",
   "id": "f447df1f",
   "metadata": {},
   "source": [
    "$MSE = E_r = \\frac{1}{n} \\sum_{i=1}^n \\left( y_i-y^R_{i}  \\right)^2  $"
   ]
  },
  {
   "cell_type": "markdown",
   "id": "64ffb99d",
   "metadata": {},
   "source": [
    "In order to minimize $MSE$ in terms of $m$ and $n$ we calculate the derivative of MSE relatede with those parameters and \n",
    "equal them to zero"
   ]
  },
  {
   "cell_type": "markdown",
   "id": "74b478e9",
   "metadata": {},
   "source": [
    "$\\LARGE \\frac{\\partial{E_r}}{\\partial{\\theta_i}} \\rightarrow \\frac{\\partial}{\\partial{\\theta_i}} E_r = \\frac{\\partial}{\\partial{\\theta_i}} \\left\\{   \\frac{1}{n} \\sum_{i=1}^n \\left[ y_i -  \\left(  \\theta_0 x_i + \\theta_1  \\right)  \\right]^2    \\right\\}  $"
   ]
  },
  {
   "cell_type": "markdown",
   "id": "e18392d0",
   "metadata": {},
   "source": [
    "$\\Large \\theta_0 \\mathrm{ (Slope):} $    $\\LARGE \\frac{\\partial{E_r}}{\\partial{\\theta_0}}= -  \\frac{2}{n} \\sum_{i=1}^n x_i \\left[ y_i -  \\left(  \\theta_0 x_i + \\theta_1  \\right)  \\right]     $"
   ]
  },
  {
   "cell_type": "markdown",
   "id": "fab18c92",
   "metadata": {},
   "source": [
    "$\\Large \\theta_1 \\mathrm{ (Slope):} $    $\\LARGE \\frac{\\partial{E_r}}{\\partial{\\theta_1}}= -  \\frac{2}{n} \\sum_{i=1}^n  \\left[ y_i -  \\left(  \\theta_0 x_i + \\theta_1  \\right)  \\right]     $"
   ]
  },
  {
   "cell_type": "markdown",
   "id": "e0d334e8",
   "metadata": {},
   "source": [
    "Now the updated parameters are\n"
   ]
  },
  {
   "cell_type": "markdown",
   "id": "a0a033e7",
   "metadata": {},
   "source": [
    "$\\Large \\theta_0= \\boxed{ \\theta_0 -  {\\color{red}\\gamma \\frac{\\partial{E_r}}{\\partial{\\theta_0}}   } }   $   $\\LARGE = \\theta_0   -  {\\color{red}\\gamma \\cdot } \\left\\{ \\frac{2}{n} \\sum_{i=1}^n x_i \\left[ y_i -  \\left(  \\theta_0 x_i + \\theta_1  \\right)  \\right] \\right\\}    $ = $  \\theta_0   -  {\\color{red}\\gamma  } \\left[ \\frac{2}{n} \\sum_{i=1}^n x_i \\left( y_i - y_R  \\right) \\right]    $"
   ]
  },
  {
   "cell_type": "markdown",
   "id": "d691ef32",
   "metadata": {},
   "source": [
    "$\\Large \\theta_1 = \\boxed{ \\theta_1 - \\frac{\\partial{E_r}}{\\partial{\\theta_1}} }$    $\\LARGE  = \\theta_1 - {\\color{red}\\gamma  \\cdot } \\left\\{ \\frac{2}{n} \\sum_{i=1}^n  \\left[ y_i -  \\left(  \\theta_0 x_i + \\theta_1  \\right)  \\right]   \\right\\}   $ $ = \\theta_0   -  {\\color{red}\\gamma } \\left[ \\frac{2}{n} \\sum_{i=1}^n \\left( y_i - y_R  \\right) \\right] $"
   ]
  },
  {
   "cell_type": "markdown",
   "id": "d006a9a0",
   "metadata": {},
   "source": [
    "Run learning"
   ]
  },
  {
   "cell_type": "markdown",
   "id": "f9261c03",
   "metadata": {},
   "source": [
    "By math we know that  <br>\n",
    "\n",
    "$y_R = \\theta_0 x + \\theta_1$. Therefore, we can estimate first guess by \n",
    "\n",
    "$\\theta_0 = \\frac{y_{j}-y_{i}}{x_{j}-x_{i}}  $   and   $\\,\\theta_1 = y_i-\\theta_0 x_i$.\n",
    "\n",
    "The algorithm consists of, recursively, applying the correction equation of the value of the parameters to a set number of interactions, usually called epoch.\n",
    "\n",
    "Defining $\\theta_0 = t_0$ and $\\theta_1= t_1$, we have\n"
   ]
  },
  {
   "cell_type": "markdown",
   "id": "8b523386",
   "metadata": {},
   "source": [
    "### Implementation  <a class=\"anchor\" id=\"i1234\"></a>  \n",
    "\n"
   ]
  },
  {
   "cell_type": "code",
   "execution_count": 12,
   "id": "3e936f10",
   "metadata": {},
   "outputs": [],
   "source": [
    "def error_f(x,y,t0,t1,data_size):\n",
    "    # fuction y_R = t0 x + t1\n",
    "    y_R = t0 * x  - t1    \n",
    "    return  (1./data_size)* np.sum ((y-y_R)**2)"
   ]
  },
  {
   "cell_type": "markdown",
   "id": "1a782541",
   "metadata": {},
   "source": [
    "<div class=\"alert alert-block alert-info\">\n",
    "<b>Grad descent def:</b> grad_descent (X,Y,theta0,theta1,learning_rate,data_size,epoch) \n",
    "</div>"
   ]
  },
  {
   "cell_type": "code",
   "execution_count": 129,
   "id": "830a5057",
   "metadata": {},
   "outputs": [],
   "source": [
    "def grad_descent (X,Y,theta0,theta1,learning_rate,data_size,epoch):\n",
    "    # This fuction caculates the model parameters update in order to minimize a error (first version)\n",
    "    #This erro must be derivated and included in parameter update formula\n",
    "    #  mi = mi - (derror /dmi)\n",
    "    # X is the x data values; Y is the Y data values;\n",
    "    # theta0 is ths slope parameter; theta1 the linear coeff (all related with a linear model y= t0 x+ t1) FIRST GUESS\n",
    "    #learning rate is a free weight optimization step parameter (between 0 and 1.)\n",
    "    # data size is the len of data\n",
    "    #epoch is the n. of steps upgrading the gradient descent\n",
    "    \n",
    "    list_theta0 = []\n",
    "    list_theta1 = []\n",
    "    for i in range(epoch):\n",
    "        y_R = theta0 * X  + theta1\n",
    "        \n",
    "        if False:\n",
    "            print(\"=========\",i,\"=========\")\n",
    "            print('before t0=',theta0,' | t1=',theta1)      \n",
    "            #               error_f(y,x,t0,t1,data_size)\n",
    "            print (\"error=\",error_f(X,Y,theta0,theta1,data_size))\n",
    "            \n",
    "        theta0 -=   (learning_rate*(-2./data_size)*np.sum(X*(Y-y_R)))\n",
    "        theta1 -=   (learning_rate*(-2./data_size)*np.sum(Y-y_R))\n",
    "        if False:\n",
    "            print('after t0=',theta0,' | t1=',theta1)\n",
    "            print (\"np.sum=\", np.sum(y-y_R),\"(2./n)*np.sum((y-y_R)) = \", (2./n)*np.sum((y-y_R)),\"(2./n)*np.sum(x*(y-y_R)) = \", (2./n)*np.sum(x*(y-y_R)))  \n",
    "            print (\"(learning_rate*(2./n)*np.sum(x*(y-y_R)))\", (learning_rate*(2./n)*np.sum(x*(y-y_R))))       \n",
    "            print (\"error=\",error_f(X,Y,theta0,theta1,data_size))\n",
    "\n",
    "        \n",
    "        list_theta0.append(theta0)\n",
    "        list_theta1.append(theta1)\n",
    "    return list_theta0,list_theta1        \n",
    "    "
   ]
  },
  {
   "cell_type": "code",
   "execution_count": null,
   "id": "73227f02",
   "metadata": {},
   "outputs": [],
   "source": []
  },
  {
   "cell_type": "code",
   "execution_count": 63,
   "id": "4cb1319e",
   "metadata": {},
   "outputs": [],
   "source": [
    "def grad_descent1 (X,Y,theta0,theta1,learning_rate,data_size,epoch,verbose):\n",
    "    # This fuction caculates the model parameters update in order to minimize a error  (second version)\n",
    "    #This erro must be derivated and included in parameter update formula\n",
    "    #  mi = mi - (derror /dmi)\n",
    "    # X is the x data values; Y is the Y data values;\n",
    "    # theta0 is ths slope parameter; theta1 the linear coeff (all related with a linear model y= t0 x+ t1) FIRST GUESS\n",
    "    #learning rate is a free weight optimization step parameter (between 0 and 1.)\n",
    "    # data size is the len of data\n",
    "    #epoch is the n. of steps upgrading the gradient descent\n",
    "    \n",
    "    list_theta0 = []\n",
    "    list_theta1 = []\n",
    "    for i in range(epoch):\n",
    "        y_R = theta0 * X  + theta1\n",
    "        if verbose:\n",
    "            print('before t0=',theta0,' | t1=',theta1)  \n",
    "            #print('before t0=',theta0,' | t1=',theta1,\" | y_R=\",y_R[])      \n",
    "            #               error_f(y,x,t0,t1,data_size)\n",
    "            print (\"error=\",error_f(X,Y,theta0,theta1,data_size))\n",
    "        \n",
    "        theta0 -= (learning_rate*(-2./n)*np.sum(X*(Y-y_R)))\n",
    "        theta1 -=  (learning_rate*(-2./n)*np.sum(Y-y_R))\n",
    "        \n",
    "        if verbose:\n",
    "            print(\"=========\",i,\"=========\")\n",
    "            print('after t0=',theta0,' | t1=',theta1)\n",
    "            print (\"np.sum=\", np.sum(y-y_R),\"(2./n)*np.sum((y-y_R)) = \", (2./n)*np.sum((y-y_R)),\"(2./n)*np.sum(x*(y-y_R)) = \", (2./n)*np.sum(x*(y-y_R)))  \n",
    "            print (\"(learning_rate*(2./n)*np.sum(x*(y-y_R)))\", (learning_rate*(2./n)*np.sum(x*(y-y_R))))       \n",
    "            print (\"error=\",error_f(X,Y,theta0,theta1,data_size))\n",
    "\n",
    "        \n",
    "        list_theta0.append(theta0)\n",
    "        list_theta1.append(theta1)\n",
    "    return list_theta0,list_theta1        \n",
    "    "
   ]
  },
  {
   "cell_type": "code",
   "execution_count": 42,
   "id": "b21b7308",
   "metadata": {},
   "outputs": [],
   "source": [
    "def grad_descent3 (X,Y,theta0,theta1,learning_rate,data_size,epoch):\n",
    "    # This fuction caculates the model parameters update in order to minimize a error (simplest code)\n",
    "    #This erro must be derivated and included in parameter update formula\n",
    "    #  mi = mi - (derror /dmi)\n",
    "    # X is the x data values; Y is the Y data values;\n",
    "    # theta0 is ths slope parameter; theta1 the linear coeff (all related with a linear model y= t0 x+ t1) FIRST GUESS\n",
    "    #learning rate is a free weight optimization step parameter (between 0 and 1.)\n",
    "    # data size is the len of data\n",
    "    #epoch is the n. of steps upgrading the gradient descent\n",
    "    \n",
    "    list_theta0 = []\n",
    "    list_theta1 = []\n",
    "    for i in range(epoch):\n",
    "        y_R = [theta0 * x[j]  + theta1   for j in range(data_size)]\n",
    "        \n",
    "        \n",
    "        \n",
    "        distancia_theta0 = [ x[j]*(y[j]-y_R[j]) for j in range(len(x))   ]\n",
    "        del_theta0 = learning_rate*(-2./data_size)*np.sum(distancia_theta0)   \n",
    "        theta0 -=  del_theta0\n",
    "        \n",
    "        \n",
    "        \n",
    "        distancia_theta1 = [ (y[j]-y_R[j]) for j in range(data_size)   ]\n",
    "        del_theta1 = learning_rate*(-2./data_size)*np.sum(distancia_theta1)   \n",
    "        theta1 -=  del_theta1\n",
    "         \n",
    "\n",
    "        \n",
    "        list_theta0.append(theta0)\n",
    "        list_theta1.append(theta1)\n",
    "    return list_theta0,list_theta1        \n",
    "    "
   ]
  },
  {
   "cell_type": "code",
   "execution_count": null,
   "id": "9f24399e",
   "metadata": {},
   "outputs": [],
   "source": []
  },
  {
   "cell_type": "code",
   "execution_count": 119,
   "id": "6b9b0ec4",
   "metadata": {},
   "outputs": [
    {
     "name": "stdout",
     "output_type": "stream",
     "text": [
      "first sugestion:  t0= 2.0  | t1= 1.5\n",
      "To good lt's include some not so perfect, to see gradent working\n",
      "first sugestion:  t0= 10.5  | t1= 100.0\n"
     ]
    }
   ],
   "source": [
    "#t0 = 1.5; t1= 1.\n",
    "#Sugestion of fist guess\n",
    "# In some data first gues can be the mean\n",
    "t0= (y[-1]-y[0])/(x[-1]-x[0]) # standart way to obtain a angular coeff from a linear function\n",
    "t1= (y[-1]-(t0*x[-1]) )\n",
    "\n",
    "print(\"first sugestion:  t0=\",t0,\" | t1=\",t1)\n",
    "print(\"To good lt's include some not so perfect, to see gradent working\")\n",
    "t0 = 10.5; t1= 100.\n",
    "print(\"first sugestion:  t0=\",t0,\" | t1=\",t1)"
   ]
  },
  {
   "cell_type": "markdown",
   "id": "549357cf",
   "metadata": {},
   "source": [
    " grad_descent "
   ]
  },
  {
   "cell_type": "code",
   "execution_count": 130,
   "id": "bcb1846b",
   "metadata": {},
   "outputs": [],
   "source": [
    "del(new_t0, new_t1 )"
   ]
  },
  {
   "cell_type": "code",
   "execution_count": 131,
   "id": "540d5e88",
   "metadata": {},
   "outputs": [
    {
     "name": "stdout",
     "output_type": "stream",
     "text": [
      "first sugestion:  t0= 10.5  | t1= 100.0\n"
     ]
    }
   ],
   "source": [
    "t0 = 10.5; t1= 100.\n",
    "print(\"first sugestion:  t0=\",t0,\" | t1=\",t1)"
   ]
  },
  {
   "cell_type": "code",
   "execution_count": 132,
   "id": "84a60dc9",
   "metadata": {},
   "outputs": [
    {
     "name": "stdout",
     "output_type": "stream",
     "text": [
      "Starting t0=  10.5  | t1= 100.0\n"
     ]
    }
   ],
   "source": [
    "\n",
    "l_r = 0.01 #learning_rate\n",
    "#data_size = n\n",
    "epoch = 10000\n",
    "#def grad_descent (X,Y,theta0,theta1,learning_rate,data_size,epoch): for reference\n",
    "#def grad_descent3 (X,Y,theta0,theta1,learning_rate,data_size,epoch):\n",
    "print('Starting',\"t0= \",t0,\" | t1=\",t1)\n",
    "new_t0, new_t1 = grad_descent (x,y,t0,t1,l_r,n,epoch)    "
   ]
  },
  {
   "cell_type": "code",
   "execution_count": 133,
   "id": "88af8c45",
   "metadata": {},
   "outputs": [
    {
     "name": "stdout",
     "output_type": "stream",
     "text": [
      "theta0 = 1.9999999999999962\n",
      "theta1 = 1.500000000000024\n"
     ]
    }
   ],
   "source": [
    "print('theta0 =',new_t0[-1])\n",
    "print('theta1 =',new_t1[-1])"
   ]
  },
  {
   "cell_type": "code",
   "execution_count": 134,
   "id": "24fb3bff",
   "metadata": {},
   "outputs": [
    {
     "name": "stdout",
     "output_type": "stream",
     "text": [
      "9.000000000000258\n"
     ]
    }
   ],
   "source": [
    "print(error_f(x,y,new_t0[-1],new_t1[-1],n))"
   ]
  },
  {
   "cell_type": "markdown",
   "id": "3c9a6b69",
   "metadata": {},
   "source": [
    "grad_descent1"
   ]
  },
  {
   "cell_type": "code",
   "execution_count": 105,
   "id": "3e4ad111",
   "metadata": {},
   "outputs": [
    {
     "name": "stdout",
     "output_type": "stream",
     "text": [
      "10.5 100.0 100\n"
     ]
    }
   ],
   "source": [
    "print(t0,t1,n)"
   ]
  },
  {
   "cell_type": "markdown",
   "id": "208d5e67",
   "metadata": {},
   "source": [
    "To test the other implementation let's reset our lists"
   ]
  },
  {
   "cell_type": "code",
   "execution_count": 106,
   "id": "ab012759",
   "metadata": {},
   "outputs": [],
   "source": [
    "del(new_t0, new_t1 )"
   ]
  },
  {
   "cell_type": "code",
   "execution_count": 107,
   "id": "ca95fcbd",
   "metadata": {},
   "outputs": [
    {
     "name": "stdout",
     "output_type": "stream",
     "text": [
      "Starting t0=  10.5  | t1= 100.0\n"
     ]
    }
   ],
   "source": [
    "l_r = 0.01 #learning_rate\n",
    "#data_size = n\n",
    "epoch = 10000\n",
    "#def grad_descent (X,Y,t0,t1,learning_rate,data_size,epoch): for reference\n",
    "#def grad_descent3 (X,Y,theta0,theta1,learning_rate,data_size,epoch):\n",
    "print('Starting',\"t0= \",t0,\" | t1=\",t1)\n",
    "new_t0, new_t1 = grad_descent1 (x,y,t0,t1,l_r,n,epoch,False)"
   ]
  },
  {
   "cell_type": "code",
   "execution_count": 108,
   "id": "0c569419",
   "metadata": {},
   "outputs": [
    {
     "name": "stdout",
     "output_type": "stream",
     "text": [
      "theta0 = 1.9999999999999962\n",
      "theta1 = 1.500000000000024\n"
     ]
    }
   ],
   "source": [
    "print('theta0 =',new_t0[-1])\n",
    "print('theta1 =',new_t1[-1])"
   ]
  },
  {
   "cell_type": "code",
   "execution_count": 110,
   "id": "784a12b5",
   "metadata": {},
   "outputs": [
    {
     "name": "stdout",
     "output_type": "stream",
     "text": [
      "9.000000000000258\n"
     ]
    }
   ],
   "source": [
    "print(error_f(x,y,new_t0[-1],new_t1[-1],n))"
   ]
  },
  {
   "cell_type": "markdown",
   "id": "fca8c545",
   "metadata": {},
   "source": [
    "grad_descent3"
   ]
  },
  {
   "cell_type": "code",
   "execution_count": 112,
   "id": "13bafaeb",
   "metadata": {},
   "outputs": [
    {
     "name": "stdout",
     "output_type": "stream",
     "text": [
      "10.5 100.0 100\n"
     ]
    }
   ],
   "source": [
    "print(t0,t1,n)"
   ]
  },
  {
   "cell_type": "markdown",
   "id": "42c2af3a",
   "metadata": {},
   "source": [
    "To test the other implementation let's reset our lists"
   ]
  },
  {
   "cell_type": "code",
   "execution_count": 113,
   "id": "01b8c7ed",
   "metadata": {},
   "outputs": [],
   "source": [
    "del(new_t0, new_t1 )"
   ]
  },
  {
   "cell_type": "code",
   "execution_count": 114,
   "id": "fa706928",
   "metadata": {},
   "outputs": [],
   "source": [
    "# working and tested =)\n",
    "l_r = 0.01 #learning_rate\n",
    "#data_size = n\n",
    "epoch = 10000\n",
    "#def grad_descent (X,Y,t0,t1,learning_rate,data_size,epoch): for reference\n",
    "#def grad_descent3 (X,Y,theta0,theta1,learning_rate,data_size,epoch):\n",
    "new_t0, new_t1 = grad_descent3 (x,y,t0,t1,l_r,n,epoch)"
   ]
  },
  {
   "cell_type": "code",
   "execution_count": 135,
   "id": "699a1b13",
   "metadata": {},
   "outputs": [
    {
     "name": "stdout",
     "output_type": "stream",
     "text": [
      "theta0 = 1.9999999999999962\n",
      "theta1 = 1.500000000000024\n"
     ]
    }
   ],
   "source": [
    "print('theta0 =',new_t0[-1])\n",
    "print('theta1 =',new_t1[-1])\n",
    "nt0=new_t0[-1]\n",
    "nt1=new_t1[-1]"
   ]
  },
  {
   "cell_type": "code",
   "execution_count": 116,
   "id": "8212ac5c",
   "metadata": {},
   "outputs": [
    {
     "name": "stdout",
     "output_type": "stream",
     "text": [
      "9.000000000000258\n"
     ]
    }
   ],
   "source": [
    "print(error_f(x,y,new_t0[-1],new_t1[-1],n))"
   ]
  },
  {
   "cell_type": "code",
   "execution_count": 136,
   "id": "1a9640ca",
   "metadata": {},
   "outputs": [],
   "source": [
    "new_y_R = np.array([ nt0*x[i]+nt1 for i in range(n)  ])"
   ]
  },
  {
   "cell_type": "markdown",
   "id": "0da55e38",
   "metadata": {},
   "source": [
    "<div class=\"alert alert-block alert-success\">\n",
    "<b>Here</b>\n",
    "</div>"
   ]
  },
  {
   "cell_type": "markdown",
   "id": "0d59b40f",
   "metadata": {},
   "source": [
    "### Results  <a class=\"anchor\" id=\"r123\"></a>  "
   ]
  },
  {
   "cell_type": "code",
   "execution_count": null,
   "id": "e5f9ac65",
   "metadata": {},
   "outputs": [],
   "source": []
  },
  {
   "cell_type": "code",
   "execution_count": 140,
   "id": "a466f869",
   "metadata": {},
   "outputs": [
    {
     "data": {
      "image/png": "[encoded data removed]",
      "text/plain": [
       "<Figure size 600x400 with 1 Axes>"
      ]
     },
     "metadata": {},
     "output_type": "display_data"
    }
   ],
   "source": [
    "# displaying the title\n",
    "plt.title(\"Noise linear data\")\n",
    "plt.plot(x,y, color='green',label='y=ax+b', linestyle='dashed', linewidth=3.5)\n",
    "plt.scatter(x,y_e, color='blue',s=5,label='Noise data y='+str(a)+'x+'+str(b)+'+$\\epsilon$')\n",
    "plt.scatter([],[], color='blue',s=5,label='$\\epsilon\\sim(-1,1) , \\, n=$'+str(n)+'.')\n",
    "plt.plot(x,new_y_R, color='orange',label='$y_R$='+str(round(nt0,3))+'x+'+str(round(nt1,3)))\n",
    "plt.ylabel('y')\n",
    "plt.xlabel('x')\n",
    "plt.legend(loc='best')\n",
    "plt.grid()\n",
    "plt.show()"
   ]
  },
  {
   "cell_type": "markdown",
   "id": "9491ce31",
   "metadata": {},
   "source": [
    "The plot above shows a perfect agreement between fitted parameters and data for a uniform-noise linear model."
   ]
  },
  {
   "cell_type": "markdown",
   "id": "485b86b2",
   "metadata": {},
   "source": [
    "### Further ideas   <a class=\"anchor\" id=\"fi13\"></a>  "
   ]
  },
  {
   "cell_type": "markdown",
   "id": "2ecea582",
   "metadata": {},
   "source": [
    "Make error plot https://medium.com/meta-design-ideas/linear-regression-by-using-gradient-descent-algorithm-your-first-step-towards-machine-learning-a9b9c0ec41b1 <br>\n",
    "Make a plot showing distances between the linear model and its corresponding data point.  <br>\n",
    "Make an animation plot varying parameters in terms of epoch.    <br>\n",
    "Make the exemple of https://www.geeksforgeeks.org/gradient-descent-in-linear-regression/ contido em <br>\n",
    "Apply gradient descent for matrix inversion.<br>\n",
    "Do the linear regression with Lasso regularization. "
   ]
  },
  {
   "cell_type": "code",
   "execution_count": null,
   "id": "9fee8215",
   "metadata": {},
   "outputs": [],
   "source": []
  },
  {
   "cell_type": "code",
   "execution_count": null,
   "id": "4371fa39",
   "metadata": {},
   "outputs": [],
   "source": []
  },
  {
   "cell_type": "code",
   "execution_count": null,
   "id": "a7b7716a",
   "metadata": {},
   "outputs": [],
   "source": []
  },
  {
   "cell_type": "code",
   "execution_count": null,
   "id": "9c3060ea",
   "metadata": {},
   "outputs": [],
   "source": []
  },
  {
   "cell_type": "code",
   "execution_count": null,
   "id": "a690efcc",
   "metadata": {},
   "outputs": [],
   "source": []
  },
  {
   "cell_type": "code",
   "execution_count": null,
   "id": "94ee2450",
   "metadata": {},
   "outputs": [],
   "source": []
  },
  {
   "cell_type": "code",
   "execution_count": null,
   "id": "9d5fac5f",
   "metadata": {},
   "outputs": [],
   "source": []
  },
  {
   "cell_type": "code",
   "execution_count": null,
   "id": "813ae392",
   "metadata": {},
   "outputs": [],
   "source": []
  },
  {
   "cell_type": "code",
   "execution_count": 90,
   "id": "3480bf9d",
   "metadata": {},
   "outputs": [
    {
     "data": {
      "text/plain": [
       "(2.0, 1.5, 10.5, 100.0)"
      ]
     },
     "execution_count": 90,
     "metadata": {},
     "output_type": "execute_result"
    }
   ],
   "source": [
    "a,b,t0,t1"
   ]
  },
  {
   "cell_type": "code",
   "execution_count": 91,
   "id": "5a97ff21",
   "metadata": {},
   "outputs": [
    {
     "ename": "NameError",
     "evalue": "name 'new_t0' is not defined",
     "output_type": "error",
     "traceback": [
      "\u001b[1;31m---------------------------------------------------------------------------\u001b[0m",
      "\u001b[1;31mNameError\u001b[0m                                 Traceback (most recent call last)",
      "\u001b[1;32m~\\AppData\\Local\\Temp\\ipykernel_8700\\955332990.py\u001b[0m in \u001b[0;36m<module>\u001b[1;34m\u001b[0m\n\u001b[1;32m----> 1\u001b[1;33m \u001b[1;32mdel\u001b[0m\u001b[1;33m(\u001b[0m\u001b[0mnew_t0\u001b[0m\u001b[1;33m,\u001b[0m \u001b[0mnew_t1\u001b[0m \u001b[1;33m)\u001b[0m\u001b[1;33m\u001b[0m\u001b[1;33m\u001b[0m\u001b[0m\n\u001b[0m",
      "\u001b[1;31mNameError\u001b[0m: name 'new_t0' is not defined"
     ]
    }
   ],
   "source": [
    "del(new_t0, new_t1 )"
   ]
  },
  {
   "cell_type": "code",
   "execution_count": 92,
   "id": "cb53c2da",
   "metadata": {},
   "outputs": [
    {
     "name": "stdout",
     "output_type": "stream",
     "text": [
      "Starting t0=  10.5  | t1= 100.0\n"
     ]
    }
   ],
   "source": []
  },
  {
   "cell_type": "code",
   "execution_count": 93,
   "id": "dc6f1ac2",
   "metadata": {},
   "outputs": [
    {
     "data": {
      "text/plain": [
       "(8.394417221317993e+34, 5.612324699911802e+35)"
      ]
     },
     "execution_count": 93,
     "metadata": {},
     "output_type": "execute_result"
    }
   ],
   "source": [
    "new_t0[-1], new_t1[-1]"
   ]
  },
  {
   "cell_type": "code",
   "execution_count": null,
   "id": "3a2d26d1",
   "metadata": {},
   "outputs": [],
   "source": [
    "del(new_t0, new_t1 )"
   ]
  },
  {
   "cell_type": "code",
   "execution_count": 65,
   "id": "fb9a1a89",
   "metadata": {},
   "outputs": [
    {
     "name": "stdout",
     "output_type": "stream",
     "text": [
      "Starting t0=  10.5  | t1= 100.0\n"
     ]
    }
   ],
   "source": []
  },
  {
   "cell_type": "code",
   "execution_count": 62,
   "id": "531e2142",
   "metadata": {},
   "outputs": [
    {
     "data": {
      "text/plain": [
       "(1.9999999999999962, 1.500000000000024)"
      ]
     },
     "execution_count": 62,
     "metadata": {},
     "output_type": "execute_result"
    }
   ],
   "source": [
    "new_t0[-1], new_t1[-1]"
   ]
  },
  {
   "cell_type": "code",
   "execution_count": null,
   "id": "9fa867ad",
   "metadata": {},
   "outputs": [],
   "source": []
  },
  {
   "cell_type": "code",
   "execution_count": null,
   "id": "c6428613",
   "metadata": {},
   "outputs": [],
   "source": [
    "y_R = t0 * x  - t1 \n",
    "theta1 = theta1- (learning_rate*(2./n)*np.sum(y-y_R))"
   ]
  },
  {
   "cell_type": "code",
   "execution_count": null,
   "id": "e9dc4253",
   "metadata": {},
   "outputs": [],
   "source": []
  },
  {
   "cell_type": "code",
   "execution_count": null,
   "id": "d680bafb",
   "metadata": {},
   "outputs": [],
   "source": []
  },
  {
   "cell_type": "code",
   "execution_count": null,
   "id": "11eef141",
   "metadata": {},
   "outputs": [],
   "source": []
  },
  {
   "cell_type": "code",
   "execution_count": null,
   "id": "a8dca19a",
   "metadata": {},
   "outputs": [],
   "source": []
  },
  {
   "cell_type": "markdown",
   "id": "892c18f0",
   "metadata": {},
   "source": [
    "Loading data <br>\n",
    "Select model <br>\n",
    "Run learning <br>\n",
    "Optimization <br>\n",
    "Results"
   ]
  },
  {
   "cell_type": "code",
   "execution_count": null,
   "id": "c46bb65e",
   "metadata": {},
   "outputs": [],
   "source": [
    "More references\n",
    "\n",
    "[] https://medium.com/@amit25173/linear-regression-using-gradient-descent-1a3858ef0ca3 <br>\n",
    "[] equations  https://www.analyticsvidhya.com/blog/2021/04/gradient-descent-in-linear-regression/    "
   ]
  },
  {
   "cell_type": "markdown",
   "id": "6999baa7",
   "metadata": {},
   "source": [
    "#### Appendix"
   ]
  },
  {
   "cell_type": "markdown",
   "id": "8e1cf6cc",
   "metadata": {},
   "source": [
    "https://www.delftstack.com/pt/howto/python/how-to-clear-variables-in-ipython/ <br>\n",
    "Utilize %reset para limpar todas as variáveis do IPython - Requer confirmação do usuário <br>\n",
    "Utilize %reset -f para apagar todas as variáveis no IPython - Sem confirmação do usuário <br>\n",
    "Utilize del para limpar uma variável específica em IPython <br>\n",
    "Utilizar magic('reset -sf') para limpar variáveis antes da execução do script <br>\n",
    "Conclusão"
   ]
  },
  {
   "cell_type": "code",
   "execution_count": 203,
   "id": "79322a7c",
   "metadata": {},
   "outputs": [
    {
     "name": "stdout",
     "output_type": "stream",
     "text": [
      "qb-qa [ 0  0 18 27  1]\n",
      "aux [ 0  0 18 27  1]\n",
      "qc*aux [ 0.  0. 18. 54.  3.]\n",
      "qc*(qb-qa) [ 0.  0. 18. 54.  3.]\n",
      "qa*(qa-qb)= 75.0\n"
     ]
    }
   ],
   "source": [
    "qa= np.array([0,1,2,3,4])\n",
    "qb=np.array([0,1,20,30,5])\n",
    "qc=np.array([0,0.5,1,2,3])\n",
    "aux = qb-qa\n",
    "print(\"qb-qa\",qb-qa)\n",
    "print(\"aux\",aux)\n",
    "print(\"qc*aux\",qc*aux)\n",
    "print(\"qc*(qb-qa)\",qc*(qb-qa))\n",
    "print(\"qa*(qa-qb)=\",np.sum(qc*aux))"
   ]
  },
  {
   "cell_type": "code",
   "execution_count": 200,
   "id": "6e362b61",
   "metadata": {},
   "outputs": [
    {
     "name": "stdout",
     "output_type": "stream",
     "text": [
      "0 0 | 0.0 x 0 = 0.0 soma = 0.0\n",
      "1 0 | 0.5 x 0 = 0.0 soma = 0.0\n",
      "2 18 | 1.0 x 18 = 18.0 soma = 18.0\n",
      "3 27 | 2.0 x 27 = 54.0 soma = 72.0\n",
      "4 1 | 3.0 x 1 = 3.0 soma = 75.0\n"
     ]
    }
   ],
   "source": [
    "multi1 = 0.\n",
    "soma = 0.\n",
    "for i in range(len(qa)):\n",
    "    aux=qb[i]-qa[i]\n",
    "    multi1 =  qc[i]* aux\n",
    "    soma= soma + multi1\n",
    "    print(i,aux,'|',qc[i],'x',aux,'=',multi1,'soma =',soma)"
   ]
  },
  {
   "cell_type": "code",
   "execution_count": 173,
   "id": "e4d23d95",
   "metadata": {},
   "outputs": [
    {
     "data": {
      "text/plain": [
       "array([ 0,  0,  0, 27,  0])"
      ]
     },
     "execution_count": 173,
     "metadata": {},
     "output_type": "execute_result"
    }
   ],
   "source": [
    "qa-qb"
   ]
  },
  {
   "cell_type": "code",
   "execution_count": 174,
   "id": "b80ece7c",
   "metadata": {},
   "outputs": [
    {
     "name": "stdout",
     "output_type": "stream",
     "text": [
      "[0.000e+00 1.000e+00 4.000e+00 3.249e+03 1.600e+01]\n"
     ]
    }
   ],
   "source": [
    "print((qa*2. - qb)**2)"
   ]
  },
  {
   "cell_type": "code",
   "execution_count": 175,
   "id": "043db58b",
   "metadata": {},
   "outputs": [
    {
     "name": "stdout",
     "output_type": "stream",
     "text": [
      "3270.0\n"
     ]
    }
   ],
   "source": [
    "print(np.sum((qa*2. - qb)**2))"
   ]
  },
  {
   "cell_type": "code",
   "execution_count": 176,
   "id": "a68d2ed0",
   "metadata": {},
   "outputs": [
    {
     "data": {
      "text/plain": [
       "3270.0"
      ]
     },
     "execution_count": 176,
     "metadata": {},
     "output_type": "execute_result"
    }
   ],
   "source": [
    "np.sum([0.000e+00, 1.000e+00, 4.000e+00, 3.249e+03, 1.600e+01])"
   ]
  },
  {
   "cell_type": "code",
   "execution_count": null,
   "id": "0fbd9e02",
   "metadata": {},
   "outputs": [],
   "source": []
  },
  {
   "cell_type": "code",
   "execution_count": null,
   "id": "b300726b",
   "metadata": {},
   "outputs": [],
   "source": [
    "def grad_descent1_c (X,Y,theta0,theta1,learning_rate,data_size,epoch,verbose):\n",
    "    # This fuction caculates the model parameters update in order to minimize a error\n",
    "    #This erro must be derivated and included in parameter update formula\n",
    "    #  mi = mi - (derror /dmi)\n",
    "    # X is the x data values; Y is the Y data values;\n",
    "    # theta0 is ths slope parameter; theta1 the linear coeff (all related with a linear model y= t0 x+ t1) FIRST GUESS\n",
    "    #learning rate is a free weight optimization step parameter (between 0 and 1.)\n",
    "    # data size is the len of data\n",
    "    #epoch is the n. of steps upgrading the gradient descent\n",
    "    \n",
    "    list_theta0 = []\n",
    "    list_theta1 = []\n",
    "    for i in range(epoch):\n",
    "        y_R = theta0 * X  + theta1\n",
    "        if verbose:\n",
    "            print('before t0=',theta0,' | t1=',theta1)  \n",
    "            #print('before t0=',theta0,' | t1=',theta1,\" | y_R=\",y_R[])      \n",
    "            #               error_f(y,x,t0,t1,data_size)\n",
    "            print (\"error=\",error_f(X,Y,theta0,theta1,data_size))\n",
    "        \n",
    "        theta0 -= (learning_rate*(-2./n)*np.sum(X*(Y-y_R)))\n",
    "        theta1 -=  (learning_rate*(-2./n)*np.sum(Y-y_R))\n",
    "        \n",
    "        if verbose:\n",
    "            print(\"=========\",i,\"=========\")\n",
    "            print('after t0=',theta0,' | t1=',theta1)\n",
    "            print (\"np.sum=\", np.sum(y-y_R),\"(2./n)*np.sum((y-y_R)) = \", (2./n)*np.sum((y-y_R)),\"(2./n)*np.sum(x*(y-y_R)) = \", (2./n)*np.sum(x*(y-y_R)))  \n",
    "            print (\"(learning_rate*(2./n)*np.sum(x*(y-y_R)))\", (learning_rate*(2./n)*np.sum(x*(y-y_R))))       \n",
    "            print (\"error=\",error_f(X,Y,theta0,theta1,data_size))\n",
    "\n",
    "        \n",
    "        list_theta0.append(theta0)\n",
    "        list_theta1.append(theta1)\n",
    "    return list_theta0,list_theta1        \n",
    "    "
   ]
  }
 ],
 "metadata": {
  "kernelspec": {
   "display_name": "Python 3 (ipykernel)",
   "language": "python",
   "name": "python3"
  },
  "language_info": {
   "codemirror_mode": {
    "name": "ipython",
    "version": 3
   },
   "file_extension": ".py",
   "mimetype": "text/x-python",
   "name": "python",
   "nbconvert_exporter": "python",
   "pygments_lexer": "ipython3",
   "version": "3.7.16"
  }
 },
 "nbformat": 4,
 "nbformat_minor": 5
}
